{
 "cells": [
  {
   "cell_type": "markdown",
   "metadata": {},
   "source": [
    "3D Animation of reconstruction data\n",
    "======="
   ]
  },
  {
   "cell_type": "code",
   "execution_count": 1,
   "metadata": {},
   "outputs": [],
   "source": [
    "import numpy as np\n",
    "import matplotlib.pyplot as plt\n",
    "import torch as torch\n",
    "import torch.nn as nn\n",
    "from matplotlib import animation\n",
    "from mpl_toolkits.mplot3d import Axes3D\n",
    "from IPython.display import HTML"
   ]
  },
  {
   "cell_type": "markdown",
   "metadata": {},
   "source": [
    "Data"
   ]
  },
  {
   "cell_type": "code",
   "execution_count": 2,
   "metadata": {},
   "outputs": [
    {
     "name": "stdout",
     "output_type": "stream",
     "text": [
      "Using cuda device\n",
      "NVIDIA GeForce GTX 1070\n",
      "Train data size:  (100, 1000, 3)\n",
      "Test data size:  (100, 1000, 3)\n"
     ]
    }
   ],
   "source": [
    "# Get cpu or gpu device for training.\n",
    "device = \"cuda\" if torch.cuda.is_available() else \"cpu\"\n",
    "print(\"Using {} device\".format(device))\n",
    "print(torch.cuda.get_device_name(0))\n",
    "\n",
    "lorenz_train=np.load(\"../data/lorenz_train.npy\")\n",
    "lorenz_test=np.load(\"../data/lorenz_test.npy\")\n",
    "print(\"Train data size: \",lorenz_train.shape)\n",
    "print(\"Test data size: \",lorenz_test.shape)\n",
    "\n",
    "def data_preperation(data):\n",
    "    t=np.arange(0,len(data[0,:,0]))\n",
    "    X_train=torch.from_numpy(data[:,0:-1,:]).float().to(device)\n",
    "    Y_train=torch.from_numpy(data[:,1:,:]).float().to(device)\n",
    "    return X_train,Y_train,t\n",
    "\n",
    "X_train,Y_train,t = data_preperation(lorenz_train)\n",
    "X_test,Y_test,t = data_preperation(lorenz_test)"
   ]
  },
  {
   "cell_type": "markdown",
   "metadata": {},
   "source": [
    "Hyperparameter"
   ]
  },
  {
   "cell_type": "code",
   "execution_count": 3,
   "metadata": {},
   "outputs": [],
   "source": [
    "hidden_size = 20  # number of hidden units x RNN\n",
    "input_size = len(lorenz_train[0,0,:])  # number of input units\n",
    "output_size = len(lorenz_train[0,0,:])  # number of output units\n",
    "num_layers = 1  # number of layers\n",
    "batch_size = len(lorenz_train[:,0,0])  # size of the input data used for one iteration\n",
    "criterion = nn.MSELoss()"
   ]
  },
  {
   "cell_type": "markdown",
   "metadata": {},
   "source": [
    "LSTM model"
   ]
  },
  {
   "cell_type": "code",
   "execution_count": 7,
   "metadata": {},
   "outputs": [],
   "source": [
    "class MyRNN(nn.Module):\n",
    "    def __init__(self, input_size, hidden_size, output_size, num_layers):\n",
    "        super(MyRNN, self).__init__()  # Inherited from the parent class nn.Module\n",
    "        self.input_size = input_size\n",
    "        self.hidden_size = hidden_size\n",
    "        self.batch_size = batch_size\n",
    "        self.output_size = output_size\n",
    "        self.num_layers = num_layers\n",
    "        self.lstm = nn.LSTM(self.input_size, self.hidden_size, self.num_layers, batch_first=True)\n",
    "        self.linear = nn.Linear(self.hidden_size, self.output_size)  # Define the output layer\n",
    "\n",
    "    def forward(self, x):  # Forward pass: stacking each layer together\n",
    "\n",
    "        output, hidden = self.lstm(x)\n",
    "        output = self.linear(output)\n",
    "\n",
    "        return output"
   ]
  },
  {
   "cell_type": "markdown",
   "metadata": {},
   "source": [
    "Load model"
   ]
  },
  {
   "cell_type": "code",
   "execution_count": 8,
   "metadata": {},
   "outputs": [],
   "source": [
    "model=torch.load('../model/LSTM_model_lorenz.pt')"
   ]
  },
  {
   "cell_type": "markdown",
   "metadata": {},
   "source": [
    "Animation\n",
    "------"
   ]
  },
  {
   "cell_type": "code",
   "execution_count": 9,
   "metadata": {},
   "outputs": [
    {
     "name": "stdout",
     "output_type": "stream",
     "text": [
      "Loss: 0.00006573\n"
     ]
    }
   ],
   "source": [
    "# Calculate Prediction\n",
    "y_pred = model(X_test)  # apply the trained model to training set\n",
    "\n",
    "loss=criterion(y_pred,Y_test).item()\n",
    "print(\"Loss: {:.8f}\".format(round(loss,8)))\n",
    "\n",
    "y_pred = y_pred.cpu().detach().numpy()\n",
    "y = Y_test.cpu().detach().numpy()"
   ]
  },
  {
   "cell_type": "code",
   "execution_count": null,
   "metadata": {},
   "outputs": [],
   "source": [
    "# Create a figure and a 3D Axes\n",
    "fig = plt.figure(figsize=(8,8))\n",
    "ax = Axes3D(fig)\n",
    "\n",
    "def init():\n",
    "    # Plot the surface.\n",
    "    ax.plot(y[0,:,0],y[0,:,1],y[0,:,2],label=\"true trajectory\",color=\"royalblue\",linewidth=2)\n",
    "    ax.plot(y_pred[0,:,0],y_pred[0,:,1],y_pred[0,:,2],label=\"predicted trajectory\",color=\"orangered\",linewidth=1)\n",
    "    ax.set_title(\"Lorenz Attractor\")\n",
    "    ax.set_xlabel(\"x\")\n",
    "    ax.set_ylabel(\"y\")\n",
    "    ax.set_zlabel(\"z\")\n",
    "    ax.legend()\n",
    "    return fig,\n",
    "\n",
    "def animate(i):\n",
    "    # azimuth angle : 0 deg to 360 deg\n",
    "    ax.view_init(elev=20, azim=i*4)\n",
    "    return fig,\n",
    "\n",
    "# Animate\n",
    "ani = animation.FuncAnimation(fig, animate, init_func=init,frames=90, interval=100, blit=True)\n",
    "plt.close()\n",
    "HTML(ani.to_jshtml())"
   ]
  },
  {
   "cell_type": "code",
   "execution_count": 8,
   "metadata": {},
   "outputs": [],
   "source": [
    "writergif = animation.PillowWriter(fps=10)\n",
    "ani.save('filename.gif',writer=writergif)"
   ]
  },
  {
   "cell_type": "code",
   "execution_count": null,
   "metadata": {},
   "outputs": [],
   "source": []
  }
 ],
 "metadata": {
  "interpreter": {
   "hash": "d5904a9c0426f713946d1421ca5df5eb4915992138aa947b827148ad83c03dbb"
  },
  "kernelspec": {
   "display_name": "Python 3.8.12 ('machine_learning')",
   "language": "python",
   "name": "python3"
  },
  "language_info": {
   "codemirror_mode": {
    "name": "ipython",
    "version": 3
   },
   "file_extension": ".py",
   "mimetype": "text/x-python",
   "name": "python",
   "nbconvert_exporter": "python",
   "pygments_lexer": "ipython3",
   "version": "3.8.12"
  },
  "orig_nbformat": 4
 },
 "nbformat": 4,
 "nbformat_minor": 2
}
